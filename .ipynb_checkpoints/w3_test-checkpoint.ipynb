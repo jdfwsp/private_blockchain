{
 "cells": [
  {
   "cell_type": "code",
   "execution_count": 1,
   "id": "ddd90fb0-14f2-4da8-a924-004747a0023a",
   "metadata": {},
   "outputs": [],
   "source": [
    "from web3 import Web3"
   ]
  },
  {
   "cell_type": "code",
   "execution_count": 2,
   "id": "685577cd-5518-4887-b6af-f00f8763f5bd",
   "metadata": {},
   "outputs": [
    {
     "data": {
      "text/plain": [
       "'/home/wh/FinTech/private_blockchain'"
      ]
     },
     "execution_count": 2,
     "metadata": {},
     "output_type": "execute_result"
    }
   ],
   "source": [
    "pwd"
   ]
  },
  {
   "cell_type": "code",
   "execution_count": 3,
   "id": "b116a86f-8e23-4317-bfca-34686d026804",
   "metadata": {},
   "outputs": [],
   "source": [
    "w3 = Web3(Web3.IPCProvider('node1/geth.ipc'))"
   ]
  },
  {
   "cell_type": "code",
   "execution_count": 4,
   "id": "7274aa33-10dd-41d9-9e89-29ea37cdb876",
   "metadata": {},
   "outputs": [
    {
     "data": {
      "text/plain": [
       "True"
      ]
     },
     "execution_count": 4,
     "metadata": {},
     "output_type": "execute_result"
    }
   ],
   "source": [
    "w3.isConnected()"
   ]
  },
  {
   "cell_type": "code",
   "execution_count": 5,
   "id": "0dd07558-3777-4a8c-85cf-8a05f857f405",
   "metadata": {},
   "outputs": [
    {
     "data": {
      "text/plain": [
       "['0x4Cc76bB3346B46f97e10FD2C34E26B7c50D95c02']"
      ]
     },
     "execution_count": 5,
     "metadata": {},
     "output_type": "execute_result"
    }
   ],
   "source": [
    "w3.eth.accounts"
   ]
  },
  {
   "cell_type": "code",
   "execution_count": 6,
   "id": "30846214-80ca-4103-838e-ffc0e2e16d40",
   "metadata": {},
   "outputs": [
    {
     "data": {
      "text/plain": [
       "316"
      ]
     },
     "execution_count": 6,
     "metadata": {},
     "output_type": "execute_result"
    }
   ],
   "source": [
    "w3.eth.blockNumber"
   ]
  },
  {
   "cell_type": "code",
   "execution_count": 7,
   "id": "9a8a3395-9619-4dc9-bcf7-27ae475c0739",
   "metadata": {},
   "outputs": [
    {
     "data": {
      "text/plain": [
       "True"
      ]
     },
     "execution_count": 7,
     "metadata": {},
     "output_type": "execute_result"
    }
   ],
   "source": [
    "w3.eth.is_mining()"
   ]
  },
  {
   "cell_type": "code",
   "execution_count": 8,
   "id": "3c1847a0-edf0-43df-9c45-caf8afa3a20b",
   "metadata": {},
   "outputs": [
    {
     "data": {
      "text/plain": [
       "904625697166532776746648320380374280103671755200316906558261535061821325312"
      ]
     },
     "execution_count": 8,
     "metadata": {},
     "output_type": "execute_result"
    }
   ],
   "source": [
    "w3.eth.get_balance(w3.eth.accounts[0])"
   ]
  },
  {
   "cell_type": "code",
   "execution_count": 16,
   "id": "1d809502-887a-4cdb-beeb-7aa374243a3e",
   "metadata": {
    "tags": []
   },
   "outputs": [],
   "source": [
    "mm2 = '0xE8ED7a9A7D0e9d2Aad0f855CB3179B5D5B117e56'"
   ]
  },
  {
   "cell_type": "code",
   "execution_count": null,
   "id": "261d9e7d-3ba8-4ced-814e-26279491e7a4",
   "metadata": {},
   "outputs": [],
   "source": []
  },
  {
   "cell_type": "code",
   "execution_count": 23,
   "id": "d6e9d124-13f9-4383-8608-c3194bf9b581",
   "metadata": {},
   "outputs": [],
   "source": [
    "mm3 = '0xDdEd40054AdfcE7e09B549c7E0C7493D6a6eD2E8'"
   ]
  },
  {
   "cell_type": "code",
   "execution_count": 18,
   "id": "076f087f-81ba-4c36-9d3c-021f31f0bab1",
   "metadata": {},
   "outputs": [],
   "source": [
    "nonce = w3.eth.getTransactionCount(mm)"
   ]
  },
  {
   "cell_type": "code",
   "execution_count": 19,
   "id": "99682774-704e-4f57-9bd9-5a70c28329f1",
   "metadata": {},
   "outputs": [],
   "source": [
    "tx = {\n",
    "    'chainId': 987,\n",
    "    'nonce': nonce,\n",
    "    'to': mm3,\n",
    "    'value': w3.toWei(100, 'ether'),\n",
    "    'gas': 2000000,\n",
    "    'gasPrice': w3.toWei(50, 'gwei')\n",
    "    \n",
    "}"
   ]
  },
  {
   "cell_type": "code",
   "execution_count": 24,
   "id": "bfe0a5c2-47ba-46d0-a17b-9e6564ed9770",
   "metadata": {},
   "outputs": [],
   "source": [
    "signed_tx = w3.eth.account.signTransaction(tx, mm2_priv)"
   ]
  },
  {
   "cell_type": "code",
   "execution_count": 25,
   "id": "839f5885-7809-4f4c-b37f-c3a090af4ccb",
   "metadata": {},
   "outputs": [],
   "source": [
    "tx_hash = w3.eth.sendRawTransaction(signed_tx.rawTransaction)"
   ]
  },
  {
   "cell_type": "code",
   "execution_count": 26,
   "id": "83e97f22-8af1-4b56-b20c-286481169b56",
   "metadata": {},
   "outputs": [
    {
     "data": {
      "text/plain": [
       "HexBytes('0xea889fe420c511136c62c90b05d50cadc45c8e38a99b7cbf5571c8e2311884ed')"
      ]
     },
     "execution_count": 26,
     "metadata": {},
     "output_type": "execute_result"
    }
   ],
   "source": [
    "tx_hash"
   ]
  },
  {
   "cell_type": "code",
   "execution_count": 28,
   "id": "cee53680-4dda-4a7b-84fd-942db2e870b5",
   "metadata": {},
   "outputs": [],
   "source": [
    "import os\n",
    "from dotenv import load_dotenv\n",
    "load_dotenv()\n",
    "from web3.middleware import geth_poa_middleware"
   ]
  },
  {
   "cell_type": "code",
   "execution_count": 29,
   "id": "13365b39-59c6-4be5-9731-93c906c6b0ef",
   "metadata": {},
   "outputs": [
    {
     "data": {
      "text/plain": [
       "True"
      ]
     },
     "execution_count": 29,
     "metadata": {},
     "output_type": "execute_result"
    }
   ],
   "source": [
    "load_dotenv()"
   ]
  },
  {
   "cell_type": "code",
   "execution_count": 31,
   "id": "dc92ece7-998b-4289-b263-f986b5dd1251",
   "metadata": {},
   "outputs": [
    {
     "name": "stdout",
     "output_type": "stream",
     "text": [
      "242e48bd8db957ca32a93310a1c5e8d34d636451231d351f96ed15ef89758f28\n"
     ]
    }
   ],
   "source": [
    "print(mm2_priv)"
   ]
  },
  {
   "cell_type": "code",
   "execution_count": 32,
   "id": "79066245-4213-4cca-9278-fb0f44657ac1",
   "metadata": {},
   "outputs": [
    {
     "data": {
      "text/plain": [
       "'242e48bd8db957ca32a93310a1c5e8d34d636451231d351f96ed15ef89758f28'"
      ]
     },
     "execution_count": 32,
     "metadata": {},
     "output_type": "execute_result"
    }
   ],
   "source": [
    "mm2_priv"
   ]
  },
  {
   "cell_type": "code",
   "execution_count": 33,
   "id": "1fd7b253-b545-4e0b-8a7e-a515876ea236",
   "metadata": {},
   "outputs": [],
   "source": [
    "w3 = Web3(Web3.IPCProvider('node1/geth.ipc'))"
   ]
  },
  {
   "cell_type": "code",
   "execution_count": 35,
   "id": "a83d198e-5861-43ca-b81e-5b2c1b1cb5f8",
   "metadata": {},
   "outputs": [],
   "source": [
    "pk = os.getenv('mm2_priv')"
   ]
  },
  {
   "cell_type": "code",
   "execution_count": 36,
   "id": "52707aad-c010-45b9-be17-d01d3ce15ace",
   "metadata": {},
   "outputs": [],
   "source": [
    "from eth_account import Account"
   ]
  },
  {
   "cell_type": "code",
   "execution_count": 37,
   "id": "088d16d1-4f06-46cc-86ab-74f4766b6669",
   "metadata": {},
   "outputs": [],
   "source": [
    "mm_acct = Account.from_key(pk)"
   ]
  },
  {
   "cell_type": "code",
   "execution_count": 43,
   "id": "3daf15ab-505e-4256-aee5-becbb0fb810c",
   "metadata": {},
   "outputs": [],
   "source": [
    "def create_raw_tx(account, recipient, amount):\n",
    "    gasEstimate = w3.eth.estimateGas(\n",
    "        {\"from\": account.address, \"to\": recipient, \"value\": amount}\n",
    "    )\n",
    "    return {\n",
    "        \"chainId\": 987,\n",
    "        \"from\": account.address,\n",
    "        \"to\": recipient,\n",
    "        \"value\": amount,\n",
    "        \"gasPrice\": w3.eth.gasPrice,\n",
    "        \"gas\": gasEstimate,\n",
    "        \"nonce\": w3.eth.getTransactionCount(account.address),\n",
    "    }"
   ]
  },
  {
   "cell_type": "code",
   "execution_count": 44,
   "id": "902390a6-4b54-4858-b679-26a97ae14c43",
   "metadata": {},
   "outputs": [],
   "source": [
    "def send_tx(account, recipient, amount):\n",
    "    tx = create_raw_tx(account, recipient, amount)\n",
    "    signed_tx = account.sign_transaction(tx)\n",
    "    # w3.eth.sendTransaction() only supports sending unsigned transactions\n",
    "    result = w3.eth.sendRawTransaction(signed_tx.rawTransaction)\n",
    "    # sendRawTransaction requires that the transaction be already signed and serialized\n",
    "    # sendRawTransaction takes the raw, signed transaction bytes and sends it to the node you are connected to\n",
    "    print(result.hex())\n",
    "    return result.hex()"
   ]
  },
  {
   "cell_type": "code",
   "execution_count": 45,
   "id": "547d68a0-3c53-4a92-998b-5db17a5aaa14",
   "metadata": {},
   "outputs": [],
   "source": [
    "from getpass import getpass\n",
    "from pathlib import Path"
   ]
  },
  {
   "cell_type": "code",
   "execution_count": 47,
   "id": "44510fc4-fce5-48d6-b85e-7f5e6c8b35c7",
   "metadata": {},
   "outputs": [
    {
     "name": "stdout",
     "output_type": "stream",
     "text": [
      "0xb983a095f135fea1d63f32069649e6af01ffa01dc87961cf78514c71b4c20b52\n"
     ]
    },
    {
     "data": {
      "text/plain": [
       "'0xb983a095f135fea1d63f32069649e6af01ffa01dc87961cf78514c71b4c20b52'"
      ]
     },
     "execution_count": 47,
     "metadata": {},
     "output_type": "execute_result"
    }
   ],
   "source": [
    "send_tx(mm_acct, mm3, 10)"
   ]
  },
  {
   "cell_type": "code",
   "execution_count": 48,
   "id": "d218d65c-8f0c-462d-8273-b7340e3bb402",
   "metadata": {},
   "outputs": [
    {
     "data": {
      "text/plain": [
       "AttributeDict({'blockHash': HexBytes('0x1dda045d7cacc9aae731f8bea5ec28e4300e811cbb3c282a1043e507ab99f742'),\n",
       " 'blockNumber': 484,\n",
       " 'contractAddress': None,\n",
       " 'cumulativeGasUsed': 21000,\n",
       " 'effectiveGasPrice': 1000000000,\n",
       " 'from': '0xE8ED7a9A7D0e9d2Aad0f855CB3179B5D5B117e56',\n",
       " 'gasUsed': 21000,\n",
       " 'logs': [],\n",
       " 'logsBloom': HexBytes('0x00000000000000000000000000000000000000000000000000000000000000000000000000000000000000000000000000000000000000000000000000000000000000000000000000000000000000000000000000000000000000000000000000000000000000000000000000000000000000000000000000000000000000000000000000000000000000000000000000000000000000000000000000000000000000000000000000000000000000000000000000000000000000000000000000000000000000000000000000000000000000000000000000000000000000000000000000000000000000000000000000000000000000000000000000000000'),\n",
       " 'status': 1,\n",
       " 'to': '0xDdEd40054AdfcE7e09B549c7E0C7493D6a6eD2E8',\n",
       " 'transactionHash': HexBytes('0xb983a095f135fea1d63f32069649e6af01ffa01dc87961cf78514c71b4c20b52'),\n",
       " 'transactionIndex': 0,\n",
       " 'type': '0x0'})"
      ]
     },
     "execution_count": 48,
     "metadata": {},
     "output_type": "execute_result"
    }
   ],
   "source": [
    "w3.eth.getTransactionReceipt(0xb983a095f135fea1d63f32069649e6af01ffa01dc87961cf78514c71b4c20b52)"
   ]
  },
  {
   "cell_type": "code",
   "execution_count": null,
   "id": "e6ef9bc6-359c-4b55-8c8a-0ceb581c1589",
   "metadata": {},
   "outputs": [],
   "source": []
  },
  {
   "cell_type": "code",
   "execution_count": null,
   "id": "fdae6f77-8b40-4803-93ab-3b6515ba41a5",
   "metadata": {},
   "outputs": [],
   "source": [
    "with open(Path(\"chrome_keystore\")) as keyfile:\n",
    "    encrypted_key = keyfile.read()\n",
    "    chrome_private_key = w3.eth.account.decrypt( #  perform the decryption, passing it the encrypted key and the password\n",
    "        encrypted_key, getpass(\"Enter keystore password: \") # prompt for a password, decrypt the key and convert to and Account object.\n",
    "    )\n",
    "    chrome_account = Account.from_key(chrome_private_key)\n",
    "    # password should be your metamask login password"
   ]
  }
 ],
 "metadata": {
  "kernelspec": {
   "display_name": "Python 3",
   "language": "python",
   "name": "python3"
  },
  "language_info": {
   "codemirror_mode": {
    "name": "ipython",
    "version": 3
   },
   "file_extension": ".py",
   "mimetype": "text/x-python",
   "name": "python",
   "nbconvert_exporter": "python",
   "pygments_lexer": "ipython3",
   "version": "3.9.5"
  }
 },
 "nbformat": 4,
 "nbformat_minor": 5
}
